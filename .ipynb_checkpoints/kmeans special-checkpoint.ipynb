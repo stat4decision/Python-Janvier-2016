{
 "cells": [
  {
   "cell_type": "code",
   "execution_count": 6,
   "metadata": {
    "collapsed": true
   },
   "outputs": [],
   "source": [
    "import sklearn.cluster as skl"
   ]
  },
  {
   "cell_type": "code",
   "execution_count": 39,
   "metadata": {
    "collapsed": false
   },
   "outputs": [],
   "source": [
    "model=skl.KMeans(3)"
   ]
  },
  {
   "cell_type": "code",
   "execution_count": 10,
   "metadata": {
    "collapsed": true
   },
   "outputs": [],
   "source": [
    "import pandas as pd"
   ]
  },
  {
   "cell_type": "code",
   "execution_count": 37,
   "metadata": {
    "collapsed": false
   },
   "outputs": [],
   "source": [
    "#importation d'un fichier Excel\n",
    "Data=pd.ExcelFile('Test_Kmeans.xlsx')\n",
    "Data2=Data.parse('Feuil1')"
   ]
  },
  {
   "cell_type": "code",
   "execution_count": 38,
   "metadata": {
    "collapsed": false
   },
   "outputs": [
    {
     "data": {
      "text/plain": [
       "Index([u'id_prospect', u'c1_po_t1', u'c1_po_t2', u'c1_po_t3', u'c1_po_t4',\n",
       "       u'c1_po_t5', u'c1_po_t6', u'c1_po_t7', u'c1_po_t8', u'c1_po_t9',\n",
       "       u'c1_po_t10', u'c1_pc_t1', u'c1_pc_t2', u'c1_pc_t3', u'c1_pc_t4',\n",
       "       u'c1_pc_t5', u'c1_pc_t6', u'c1_pc_t7', u'c1_pc_t8', u'c1_pc_t9',\n",
       "       u'c1_pc_t10', u'c2_po_t1', u'c2_po_t2', u'c2_po_t3', u'c2_po_t4',\n",
       "       u'c2_po_t5', u'c2_po_t6', u'c2_po_t7', u'c2_po_t8', u'c2_po_t9',\n",
       "       u'c2_po_t10', u'c2_pc_t1', u'c2_pc_t2', u'c2_pc_t3', u'c2_pc_t4',\n",
       "       u'c2_pc_t5', u'c2_pc_t6', u'c2_pc_t7', u'c2_pc_t8', u'c2_pc_t9',\n",
       "       u'c2_pc_t10', u'c3_po_t1', u'c3_po_t2', u'c3_po_t3', u'c3_po_t4',\n",
       "       u'c3_po_t5', u'c3_po_t6', u'c3_po_t7', u'c3_po_t8', u'c3_po_t9',\n",
       "       u'c3_po_t10', u'c3_pc_t1', u'c3_pc_t2', u'c3_pc_t3', u'c3_pc_t4',\n",
       "       u'c3_pc_t5', u'c3_pc_t6', u'c3_pc_t7', u'c3_pc_t8', u'c3_pc_t9',\n",
       "       u'c3_pc_t10', u'c4_po_t1', u'c4_po_t2', u'c4_po_t3', u'c4_po_t4',\n",
       "       u'c4_po_t5', u'c4_po_t6', u'c4_po_t7', u'c4_po_t8', u'c4_po_t9',\n",
       "       u'c4_po_t10', u'c4_pc_t1', u'c4_pc_t2', u'c4_pc_t3', u'c4_pc_t4',\n",
       "       u'c4_pc_t5', u'c4_pc_t6', u'c4_pc_t7', u'c4_pc_t8', u'c4_pc_t9',\n",
       "       u'c4_pc_t10', u'pp', u'pa'],\n",
       "      dtype='object')"
      ]
     },
     "execution_count": 38,
     "metadata": {},
     "output_type": "execute_result"
    }
   ],
   "source": [
    "Data2.columns"
   ]
  },
  {
   "cell_type": "code",
   "execution_count": 45,
   "metadata": {
    "collapsed": true
   },
   "outputs": [],
   "source": [
    "result=model.fit(Data2[['pp','pa']])"
   ]
  },
  {
   "cell_type": "code",
   "execution_count": 46,
   "metadata": {
    "collapsed": false
   },
   "outputs": [
    {
     "data": {
      "text/plain": [
       "138"
      ]
     },
     "execution_count": 46,
     "metadata": {},
     "output_type": "execute_result"
    }
   ],
   "source": [
    "len(result.labels_)"
   ]
  },
  {
   "cell_type": "code",
   "execution_count": 47,
   "metadata": {
    "collapsed": false
   },
   "outputs": [
    {
     "data": {
      "text/plain": [
       "138"
      ]
     },
     "execution_count": 47,
     "metadata": {},
     "output_type": "execute_result"
    }
   ],
   "source": [
    "len(Data2)"
   ]
  },
  {
   "cell_type": "code",
   "execution_count": 60,
   "metadata": {
    "collapsed": false
   },
   "outputs": [
    {
     "name": "stdout",
     "output_type": "stream",
     "text": [
      "[0 0 0 2 0 0 0 0 0 0 2 0 0 0 0 0 0 0 4 0 0 0 0 0 0 0 0 0 0 0 0 0 0 0 0 0 0\n",
      " 4 0 0 0 0 0 0 0 0 0 0 1 0 0 1 3 3 1 0 0 0 0 0 0 0 0 0 0 0 0 0 0 0 0 0 3 0\n",
      " 1 0 0 0 0 0]\n",
      "80\n"
     ]
    },
    {
     "ename": "TypeError",
     "evalue": "list indices must be integers, not tuple",
     "output_type": "error",
     "traceback": [
      "\u001b[1;31m---------------------------------------------------------------------------\u001b[0m",
      "\u001b[1;31mTypeError\u001b[0m                                 Traceback (most recent call last)",
      "\u001b[1;32m<ipython-input-60-28a4fba03a9e>\u001b[0m in \u001b[0;36m<module>\u001b[1;34m()\u001b[0m\n\u001b[0;32m     11\u001b[0m     \u001b[1;32mprint\u001b[0m \u001b[0mresult2\u001b[0m\u001b[1;33m.\u001b[0m\u001b[0mlabels_\u001b[0m\u001b[1;33m\u001b[0m\u001b[0m\n\u001b[0;32m     12\u001b[0m     \u001b[1;32mprint\u001b[0m \u001b[0mlen\u001b[0m\u001b[1;33m(\u001b[0m\u001b[0msubset\u001b[0m\u001b[1;33m)\u001b[0m\u001b[1;33m\u001b[0m\u001b[0m\n\u001b[1;32m---> 13\u001b[1;33m     \u001b[0moutput\u001b[0m\u001b[1;33m[\u001b[0m\u001b[0mi\u001b[0m\u001b[1;33m,\u001b[0m\u001b[1;36m0\u001b[0m\u001b[1;33m]\u001b[0m\u001b[1;33m=\u001b[0m\u001b[0mresult2\u001b[0m\u001b[1;33m.\u001b[0m\u001b[0mlabels_\u001b[0m\u001b[1;33m\u001b[0m\u001b[0m\n\u001b[0m",
      "\u001b[1;31mTypeError\u001b[0m: list indices must be integers, not tuple"
     ]
    }
   ],
   "source": [
    "import sklearn.cluster as skl\n",
    "import pandas as pd\n",
    "\n",
    "model=skl.KMeans(3)\n",
    "result=model.fit(Data2[['pp','pa']])\n",
    "output=[]\n",
    "for i in range(3):\n",
    "    modele=skl.KMeans(5)\n",
    "    subset =Data2[result.labels_== i]\n",
    "    result2=modele.fit(subset[['pp','pa']])\n",
    "    print result2.labels_\n",
    "    print len(subset)\n",
    "    output[i]=result2.labels_"
   ]
  },
  {
   "cell_type": "code",
   "execution_count": null,
   "metadata": {
    "collapsed": true
   },
   "outputs": [],
   "source": []
  },
  {
   "cell_type": "code",
   "execution_count": null,
   "metadata": {
    "collapsed": false
   },
   "outputs": [],
   "source": []
  }
 ],
 "metadata": {
  "kernelspec": {
   "display_name": "Python 2",
   "language": "python",
   "name": "python2"
  },
  "language_info": {
   "codemirror_mode": {
    "name": "ipython",
    "version": 2
   },
   "file_extension": ".py",
   "mimetype": "text/x-python",
   "name": "python",
   "nbconvert_exporter": "python",
   "pygments_lexer": "ipython2",
   "version": "2.7.11"
  }
 },
 "nbformat": 4,
 "nbformat_minor": 0
}
